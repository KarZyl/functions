{
 "cells": [
  {
   "cell_type": "markdown",
   "id": "1e26dff2-2212-4176-86ec-9f7b69ce57ea",
   "metadata": {},
   "source": [
    "# Tworzenie funkcji w języku Python.\n",
    "\n",
    "Funkcje w Pythonie tworzymy za pomocą słowa kluczowego def. Oto ogólna składnia tworzenia funkcji:\n",
    "\n"
   ]
  },
  {
   "cell_type": "code",
   "execution_count": 2,
   "id": "f565a467-07a5-4657-bc06-f1e8921a41f9",
   "metadata": {
    "tags": []
   },
   "outputs": [],
   "source": [
    "def nazwa_funkcji(argumenty):\n",
    "    # Ciało funkcji\n",
    "    # Instrukcje do wykonania\n",
    "    return wynik"
   ]
  },
  {
   "cell_type": "markdown",
   "id": "442fbd2f-da99-409c-9703-2ff38926026b",
   "metadata": {},
   "source": [
    "W powyższym kodzie:\n",
    "\n",
    "nazwa_funkcji to nazwa, którą nadajemy naszej funkcji.\n",
    "argumenty to parametry, które można przekazać do funkcji. Mogą być opcjonalne lub wymagane.\n",
    "ciało funkcji to miejsce, w którym umieszczamy kod wykonywany przez funkcję.\n",
    "wynik to wartość, którą funkcja może zwrócić po zakończeniu swojego działania za pomocą instrukcji return."
   ]
  },
  {
   "cell_type": "markdown",
   "id": "dc3e5eef-cd2f-4647-9a70-1d420af78d95",
   "metadata": {},
   "source": [
    "# Przykład funkcji dodawania dwóch liczb\n",
    "Poniżej przedstawiamy prostą funkcję dodawania dwóch liczb:"
   ]
  },
  {
   "cell_type": "code",
   "execution_count": 3,
   "id": "0c6ecf9f-39c7-4061-bca5-63889daebb30",
   "metadata": {
    "tags": []
   },
   "outputs": [],
   "source": [
    "def dodaj(a, b):\n",
    "    suma = a + b\n",
    "    return suma"
   ]
  },
  {
   "cell_type": "markdown",
   "id": "5a83fe48-7ed1-4a15-b6fc-406cd0d5837c",
   "metadata": {},
   "source": [
    "# Wywoływanie funkcji\n",
    "Aby wywołać funkcję, używamy jej nazwy, po której umieszczamy nawiasy okrągłe zawierające argumenty (jeśli są wymagane). Przykład:"
   ]
  },
  {
   "cell_type": "code",
   "execution_count": null,
   "id": "ef5f1687-45f3-4fce-b6f4-928fdac7f2d0",
   "metadata": {},
   "outputs": [],
   "source": [
    "wynik = nazwa_funkcji(argumenty)\n"
   ]
  },
  {
   "cell_type": "markdown",
   "id": "0138060e-9290-461b-8706-34b484f0c23a",
   "metadata": {},
   "source": [
    "# Przykład wywołania funkcji dodawania dwóch liczb\n"
   ]
  },
  {
   "cell_type": "code",
   "execution_count": 4,
   "id": "5240e682-97f9-4946-bc1e-de3bc65dee6d",
   "metadata": {
    "tags": []
   },
   "outputs": [
    {
     "name": "stdout",
     "output_type": "stream",
     "text": [
      "8\n"
     ]
    }
   ],
   "source": [
    "wynik = dodaj(3, 5)\n",
    "print(wynik)"
   ]
  },
  {
   "cell_type": "markdown",
   "id": "cc81d778-73e0-40d2-8b57-044b9d620c51",
   "metadata": {},
   "source": [
    "Powyższy kod wywoła funkcję dodaj z argumentami 3 i 5, a następnie wypisze wynik 8."
   ]
  },
  {
   "cell_type": "code",
   "execution_count": null,
   "id": "886216b5-f56f-41f2-be22-77f6483b6342",
   "metadata": {},
   "outputs": [],
   "source": []
  }
 ],
 "metadata": {
  "kernelspec": {
   "display_name": "Python 3 (ipykernel)",
   "language": "python",
   "name": "python3"
  },
  "language_info": {
   "codemirror_mode": {
    "name": "ipython",
    "version": 3
   },
   "file_extension": ".py",
   "mimetype": "text/x-python",
   "name": "python",
   "nbconvert_exporter": "python",
   "pygments_lexer": "ipython3",
   "version": "3.11.2"
  }
 },
 "nbformat": 4,
 "nbformat_minor": 5
}
